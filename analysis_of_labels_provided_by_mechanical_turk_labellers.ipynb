{
 "cells": [
  {
   "cell_type": "code",
   "execution_count": 1,
   "metadata": {},
   "outputs": [],
   "source": [
    "import pandas as pd\n",
    "import json\n",
    "import numpy as np"
   ]
  },
  {
   "cell_type": "code",
   "execution_count": 2,
   "metadata": {},
   "outputs": [],
   "source": [
    "no_requirements_responses = pd.read_csv(r'C:\\Users\\Will\\Files\\Florida\\Research\\NLP\\Mechanical Turk Datasets\\No Requirements - Drug Discontinuation 1__Batch_4794452_batch_results.csv')\n",
    "greater_than_85_percent_acceptance_responses = pd.read_csv(r'C:\\Users\\Will\\Files\\Florida\\Research\\NLP\\Mechanical Turk Datasets\\greater than 85 percent satisfaction - Drug Discontinuation 4__Batch_4794448_batch_results.csv')\n",
    "greater_than_95_percent_acceptance_responses = pd.read_csv(r'C:\\Users\\Will\\Files\\GitHub_Projects\\medhelp.org_drug_discontinuation_dataset\\Data _From_Mechanical_Turk\\greater than 95 - 5 labellers per comment - Batch_4795462_batch_results.csv')"
   ]
  },
  {
   "cell_type": "code",
   "execution_count": 3,
   "metadata": {},
   "outputs": [],
   "source": [
    "data1 = no_requirements_responses\n",
    "data2 = greater_than_85_percent_acceptance_responses\n",
    "data3 = greater_than_95_percent_acceptance_responses"
   ]
  },
  {
   "cell_type": "code",
   "execution_count": 4,
   "metadata": {},
   "outputs": [],
   "source": [
    "data1_n_labellers_per_comment = 3\n",
    "data2_n_labellers_per_comment = 3\n",
    "data3_n_labellers_per_comment = 5"
   ]
  },
  {
   "cell_type": "code",
   "execution_count": 5,
   "metadata": {},
   "outputs": [
    {
     "data": {
      "text/plain": [
       "Index(['HITId', 'HITTypeId', 'Title', 'Description', 'Keywords', 'Reward',\n",
       "       'CreationTime', 'MaxAssignments', 'RequesterAnnotation',\n",
       "       'AssignmentDurationInSeconds', 'AutoApprovalDelayInSeconds',\n",
       "       'Expiration', 'NumberOfSimilarHITs', 'LifetimeInSeconds',\n",
       "       'AssignmentId', 'WorkerId', 'AssignmentStatus', 'AcceptTime',\n",
       "       'SubmitTime', 'AutoApprovalTime', 'ApprovalTime', 'RejectionTime',\n",
       "       'RequesterFeedback', 'WorkTimeInSeconds', 'LifetimeApprovalRate',\n",
       "       'Last30DaysApprovalRate', 'Last7DaysApprovalRate', 'Input.m_1',\n",
       "       'Input.url', 'Input.text_', 'Input.text', 'Answer.taskAnswers',\n",
       "       'Approve', 'Reject'],\n",
       "      dtype='object')"
      ]
     },
     "execution_count": 5,
     "metadata": {},
     "output_type": "execute_result"
    }
   ],
   "source": [
    "# data1.head()\n",
    "data1.columns"
   ]
  },
  {
   "cell_type": "code",
   "execution_count": 5,
   "metadata": {},
   "outputs": [],
   "source": [
    "data1['Input.m_1'] = data1['Input.m_1'].str.split(' ').str[0]\n",
    "data2['Input.m_1'] = data2['Input.m_1'].str.split(' ').str[0]\n",
    "data3['Input.m_1'] = data3['Input.m_1'].str.split(' ').str[0]"
   ]
  },
  {
   "cell_type": "code",
   "execution_count": 7,
   "metadata": {},
   "outputs": [
    {
     "data": {
      "text/plain": [
       "0    No\n",
       "1    No\n",
       "2    No\n",
       "3    No\n",
       "4    No\n",
       "Name: Input.m_1, dtype: object"
      ]
     },
     "execution_count": 7,
     "metadata": {},
     "output_type": "execute_result"
    }
   ],
   "source": [
    "data1['Input.m_1'].head()"
   ]
  },
  {
   "cell_type": "code",
   "execution_count": 8,
   "metadata": {},
   "outputs": [
    {
     "data": {
      "text/plain": [
       "0    [{\"q1a\":{\"no\":false,\"yes\":true},\"q1b\":{\"not_co...\n",
       "1    [{\"q1a\":{\"no\":true,\"yes\":false},\"q1b\":{\"not_co...\n",
       "2    [{\"q1a\":{\"no\":true,\"yes\":false},\"q1b\":{\"not_co...\n",
       "3    [{\"q1a\":{\"no\":false,\"yes\":true},\"q1b\":{\"not_co...\n",
       "4    [{\"q1a\":{\"no\":true,\"yes\":false},\"q1b\":{\"not_co...\n",
       "Name: Answer.taskAnswers, dtype: object"
      ]
     },
     "execution_count": 8,
     "metadata": {},
     "output_type": "execute_result"
    }
   ],
   "source": [
    "data1['Answer.taskAnswers'].head()"
   ]
  },
  {
   "cell_type": "code",
   "execution_count": 9,
   "metadata": {},
   "outputs": [
    {
     "data": {
      "text/plain": [
       "'[{\"q1a\":{\"no\":false,\"yes\":true},\"q1b\":{\"not_confident\":false,\"somewhat_confident\":false,\"very_confident\":true},\"q2a\":{\"q2a1\":false,\"q2a2\":false,\"q2a3\":false,\"q2a4\":false,\"q2a5\":true,\"q2a6\":false,\"q2a7\":false,\"q2a8\":false},\"q2b\":{\"not_confident\":true,\"somewhat_confident\":false,\"very_confident\":false}}]'"
      ]
     },
     "execution_count": 9,
     "metadata": {},
     "output_type": "execute_result"
    }
   ],
   "source": [
    "data1['Answer.taskAnswers'][0]"
   ]
  },
  {
   "cell_type": "code",
   "execution_count": 6,
   "metadata": {},
   "outputs": [],
   "source": [
    "data1 = data1.join(data1['Answer.taskAnswers'].apply(json.loads).apply(pd.Series))\n",
    "data2 = data2.join(data2['Answer.taskAnswers'].apply(json.loads).apply(pd.Series))\n",
    "data3 = data3.join(data3['Answer.taskAnswers'].apply(json.loads).apply(pd.Series))"
   ]
  },
  {
   "cell_type": "code",
   "execution_count": 11,
   "metadata": {},
   "outputs": [
    {
     "data": {
      "text/plain": [
       "Index([                      'HITId',                   'HITTypeId',\n",
       "                             'Title',                 'Description',\n",
       "                          'Keywords',                      'Reward',\n",
       "                      'CreationTime',              'MaxAssignments',\n",
       "               'RequesterAnnotation', 'AssignmentDurationInSeconds',\n",
       "        'AutoApprovalDelayInSeconds',                  'Expiration',\n",
       "               'NumberOfSimilarHITs',           'LifetimeInSeconds',\n",
       "                      'AssignmentId',                    'WorkerId',\n",
       "                  'AssignmentStatus',                  'AcceptTime',\n",
       "                        'SubmitTime',            'AutoApprovalTime',\n",
       "                      'ApprovalTime',               'RejectionTime',\n",
       "                 'RequesterFeedback',           'WorkTimeInSeconds',\n",
       "              'LifetimeApprovalRate',      'Last30DaysApprovalRate',\n",
       "             'Last7DaysApprovalRate',                   'Input.m_1',\n",
       "                         'Input.url',                 'Input.text_',\n",
       "                        'Input.text',          'Answer.taskAnswers',\n",
       "                           'Approve',                      'Reject',\n",
       "                                   0],\n",
       "      dtype='object')"
      ]
     },
     "execution_count": 11,
     "metadata": {},
     "output_type": "execute_result"
    }
   ],
   "source": [
    "data1.columns"
   ]
  },
  {
   "cell_type": "code",
   "execution_count": 12,
   "metadata": {},
   "outputs": [
    {
     "data": {
      "text/plain": [
       "0    {'q1a': {'no': False, 'yes': True}, 'q1b': {'n...\n",
       "1    {'q1a': {'no': True, 'yes': False}, 'q1b': {'n...\n",
       "2    {'q1a': {'no': True, 'yes': False}, 'q1b': {'n...\n",
       "3    {'q1a': {'no': False, 'yes': True}, 'q1b': {'n...\n",
       "4    {'q1a': {'no': True, 'yes': False}, 'q1b': {'n...\n",
       "Name: 0, dtype: object"
      ]
     },
     "execution_count": 12,
     "metadata": {},
     "output_type": "execute_result"
    }
   ],
   "source": [
    "data1[0].head()"
   ]
  },
  {
   "cell_type": "code",
   "execution_count": 7,
   "metadata": {},
   "outputs": [
    {
     "data": {
      "text/plain": [
       "0    Yes\n",
       "1     No\n",
       "2     No\n",
       "3    Yes\n",
       "4     No\n",
       "Name: label, dtype: object"
      ]
     },
     "execution_count": 7,
     "metadata": {},
     "output_type": "execute_result"
    }
   ],
   "source": [
    "def get_label(row):\n",
    "    if row[0]['q1a']['no']:\n",
    "        return 'No'\n",
    "    else:\n",
    "        return 'Yes'\n",
    "data1['label'] = data1.apply(get_label, axis=1)\n",
    "data2['label'] = data2.apply(get_label, axis=1)\n",
    "data3['label'] = data3.apply(get_label, axis=1)\n",
    "\n",
    "data1['label'].head()"
   ]
  },
  {
   "cell_type": "code",
   "execution_count": 8,
   "metadata": {},
   "outputs": [
    {
     "data": {
      "text/plain": [
       "0        very_confident\n",
       "1        very_confident\n",
       "2        very_confident\n",
       "3        very_confident\n",
       "4    somewhat_confident\n",
       "Name: confidence, dtype: object"
      ]
     },
     "execution_count": 8,
     "metadata": {},
     "output_type": "execute_result"
    }
   ],
   "source": [
    "def get_confidence(row):    \n",
    "    if row[0]['q1b']['very_confident']:\n",
    "        return 'very_confident'\n",
    "    elif row[0]['q1b']['somewhat_confident']:\n",
    "        return 'somewhat_confident'\n",
    "    else:\n",
    "        return 'not_confident'\n",
    "data1['confidence'] = data1.apply(get_confidence, axis=1)\n",
    "data2['confidence'] = data2.apply(get_confidence, axis=1)\n",
    "data3['confidence'] = data3.apply(get_confidence, axis=1)\n",
    "\n",
    "data1['confidence'].head()"
   ]
  },
  {
   "cell_type": "code",
   "execution_count": 9,
   "metadata": {},
   "outputs": [
    {
     "data": {
      "text/plain": [
       "0    False\n",
       "1     True\n",
       "2     True\n",
       "3    False\n",
       "4     True\n",
       "Name: correct_label, dtype: bool"
      ]
     },
     "execution_count": 9,
     "metadata": {},
     "output_type": "execute_result"
    }
   ],
   "source": [
    "# data1['correct_label'] = np.where(data1[0]['q1a'] data1['Answer.taskAnswers'].apply(lambda x: x[0]['correct_label']), 1, 0)\n",
    "data1['correct_label'] = (data1['label']==data1['Input.m_1'])\n",
    "data2['correct_label'] = (data2['label']==data2['Input.m_1'])\n",
    "data3['correct_label'] = (data3['label']==data3['Input.m_1'])\n",
    "data1['correct_label'].head()"
   ]
  },
  {
   "cell_type": "code",
   "execution_count": 11,
   "metadata": {},
   "outputs": [
    {
     "name": "stdout",
     "output_type": "stream",
     "text": [
      "True     396\n",
      "False    252\n",
      "Name: correct_label, dtype: int64\n",
      "True     352\n",
      "False    296\n",
      "Name: correct_label, dtype: int64\n",
      "True     634\n",
      "False    446\n",
      "Name: correct_label, dtype: int64\n",
      "1080\n",
      "0.587037037037037\n"
     ]
    }
   ],
   "source": [
    "print(data1['correct_label'].value_counts())\n",
    "print(data2['correct_label'].value_counts())\n",
    "print(data3['correct_label'].value_counts())\n",
    "print(len(data3))\n",
    "print(data3['correct_label'].value_counts()[1] /len(data3))"
   ]
  },
  {
   "cell_type": "code",
   "execution_count": 16,
   "metadata": {},
   "outputs": [
    {
     "name": "stdout",
     "output_type": "stream",
     "text": [
      "648\n"
     ]
    }
   ],
   "source": [
    "n_data_points = len(data1)\n",
    "print(n_data_points)"
   ]
  },
  {
   "cell_type": "code",
   "execution_count": 10,
   "metadata": {},
   "outputs": [
    {
     "ename": "NameError",
     "evalue": "name 'n_data_points' is not defined",
     "output_type": "error",
     "traceback": [
      "\u001b[1;31m---------------------------------------------------------------------------\u001b[0m",
      "\u001b[1;31mNameError\u001b[0m                                 Traceback (most recent call last)",
      "\u001b[1;32m<ipython-input-10-0dfe9adcadee>\u001b[0m in \u001b[0;36m<module>\u001b[1;34m\u001b[0m\n\u001b[0;32m      3\u001b[0m \u001b[0mc\u001b[0m \u001b[1;33m=\u001b[0m \u001b[0mdata3\u001b[0m\u001b[1;33m[\u001b[0m\u001b[1;34m'correct_label'\u001b[0m\u001b[1;33m]\u001b[0m\u001b[1;33m.\u001b[0m\u001b[0mvalue_counts\u001b[0m\u001b[1;33m(\u001b[0m\u001b[1;33m)\u001b[0m\u001b[1;33m\u001b[0m\u001b[1;33m\u001b[0m\u001b[0m\n\u001b[0;32m      4\u001b[0m \u001b[1;33m\u001b[0m\u001b[0m\n\u001b[1;32m----> 5\u001b[1;33m \u001b[0mprint\u001b[0m\u001b[1;33m(\u001b[0m\u001b[0ma\u001b[0m\u001b[1;33m[\u001b[0m\u001b[1;36m1\u001b[0m\u001b[1;33m]\u001b[0m\u001b[1;33m/\u001b[0m\u001b[0mn_data_points\u001b[0m\u001b[1;33m)\u001b[0m\u001b[1;33m\u001b[0m\u001b[1;33m\u001b[0m\u001b[0m\n\u001b[0m\u001b[0;32m      6\u001b[0m \u001b[0mprint\u001b[0m\u001b[1;33m(\u001b[0m\u001b[0mb\u001b[0m\u001b[1;33m[\u001b[0m\u001b[1;36m1\u001b[0m\u001b[1;33m]\u001b[0m\u001b[1;33m/\u001b[0m\u001b[0mn_data_points\u001b[0m\u001b[1;33m)\u001b[0m\u001b[1;33m\u001b[0m\u001b[1;33m\u001b[0m\u001b[0m\n\u001b[0;32m      7\u001b[0m \u001b[0mprint\u001b[0m\u001b[1;33m(\u001b[0m\u001b[0mc\u001b[0m\u001b[1;33m[\u001b[0m\u001b[1;36m1\u001b[0m\u001b[1;33m]\u001b[0m\u001b[1;33m/\u001b[0m\u001b[0mlen\u001b[0m\u001b[1;33m(\u001b[0m\u001b[0mdata3\u001b[0m\u001b[1;33m)\u001b[0m\u001b[1;33m)\u001b[0m\u001b[1;33m\u001b[0m\u001b[1;33m\u001b[0m\u001b[0m\n",
      "\u001b[1;31mNameError\u001b[0m: name 'n_data_points' is not defined"
     ]
    }
   ],
   "source": [
    "a = data1['correct_label'].value_counts()\n",
    "b = data2['correct_label'].value_counts()\n",
    "c = data3['correct_label'].value_counts()\n",
    "\n",
    "print(a[1]/n_data_points)\n",
    "print(b[1]/n_data_points)\n",
    "print(c[1]/len(data3))"
   ]
  },
  {
   "cell_type": "code",
   "execution_count": 24,
   "metadata": {},
   "outputs": [
    {
     "name": "stdout",
     "output_type": "stream",
     "text": [
      "0    {'q1a': {'no': False, 'yes': True}, 'q1b': {'n...\n",
      "1    {'q1a': {'no': True, 'yes': False}, 'q1b': {'n...\n",
      "2    {'q1a': {'no': True, 'yes': False}, 'q1b': {'n...\n",
      "3    {'q1a': {'no': False, 'yes': True}, 'q1b': {'n...\n",
      "4    {'q1a': {'no': True, 'yes': False}, 'q1b': {'n...\n",
      "Name: 0, dtype: object\n"
     ]
    }
   ],
   "source": [
    "print(data1[0].head())"
   ]
  },
  {
   "cell_type": "code",
   "execution_count": 11,
   "metadata": {},
   "outputs": [
    {
     "name": "stdout",
     "output_type": "stream",
     "text": [
      "384\n",
      "True     259\n",
      "False    125\n",
      "Name: correct_label, dtype: int64\n",
      "0.6744791666666666\n",
      "318\n",
      "True     213\n",
      "False    105\n",
      "Name: correct_label, dtype: int64\n",
      "0.6698113207547169\n",
      "519\n",
      "True     378\n",
      "False    141\n",
      "Name: correct_label, dtype: int64\n",
      "0.7283236994219653\n"
     ]
    }
   ],
   "source": [
    "#\"q1b\":{\"not_confident\":false,\"somewhat_confident\":false,\"very_confident\":true}\n",
    "\n",
    "data1_very_confident = data1.loc[data1['confidence']== 'very_confident']\n",
    "a = data1_very_confident['correct_label'].value_counts()\n",
    "print(len(data1_very_confident))\n",
    "print(a)\n",
    "print(a[1] / len(data1_very_confident))\n",
    "\n",
    "data2_very_confident = data2.loc[data2['confidence']=='very_confident']\n",
    "b = data2_very_confident['correct_label'].value_counts()\n",
    "print(len(data2_very_confident))\n",
    "print(b)\n",
    "print(b[1] / len(data2_very_confident))\n",
    "\n",
    "data3_very_confident = data3.loc[data3['confidence']=='very_confident']\n",
    "c = data3_very_confident['correct_label'].value_counts()\n",
    "print(len(data3_very_confident))\n",
    "print(c)\n",
    "print(c[1] / len(data3_very_confident))\n",
    "# print(data2_very_confident['correct_label'].value_counts())"
   ]
  },
  {
   "cell_type": "code",
   "execution_count": 12,
   "metadata": {},
   "outputs": [
    {
     "name": "stdout",
     "output_type": "stream",
     "text": [
      "245\n",
      "False    124\n",
      "True     121\n",
      "Name: correct_label, dtype: int64\n",
      "0.49387755102040815\n",
      "292\n",
      "False    178\n",
      "True     114\n",
      "Name: correct_label, dtype: int64\n",
      "0.3904109589041096\n",
      "528\n",
      "False    291\n",
      "True     237\n",
      "Name: correct_label, dtype: int64\n",
      "0.44886363636363635\n"
     ]
    }
   ],
   "source": [
    "data1_somewhat_confident = data1.loc[data1['confidence']== 'somewhat_confident']\n",
    "a = data1_somewhat_confident['correct_label'].value_counts()\n",
    "print(len(data1_somewhat_confident))\n",
    "print(a)\n",
    "print(a[1] / len(data1_somewhat_confident))\n",
    "data2_somewhat_confident = data2.loc[data2['confidence']=='somewhat_confident']\n",
    "b = data2_somewhat_confident['correct_label'].value_counts()\n",
    "print(len(data2_somewhat_confident))\n",
    "print(b)\n",
    "print(b[1] / len(data2_somewhat_confident))\n",
    "data3_somewhat_confident = data3.loc[data3['confidence']=='somewhat_confident']\n",
    "c = data3_somewhat_confident['correct_label'].value_counts()\n",
    "print(len(data3_somewhat_confident))\n",
    "print(c)\n",
    "print(c[1] / len(data3_somewhat_confident))"
   ]
  },
  {
   "cell_type": "code",
   "execution_count": 13,
   "metadata": {},
   "outputs": [
    {
     "name": "stdout",
     "output_type": "stream",
     "text": [
      "19\n",
      "True     16\n",
      "False     3\n",
      "Name: correct_label, dtype: int64\n",
      "0.8421052631578947\n",
      "38\n",
      "True     25\n",
      "False    13\n",
      "Name: correct_label, dtype: int64\n",
      "0.6578947368421053\n",
      "33\n",
      "True     19\n",
      "False    14\n",
      "Name: correct_label, dtype: int64\n",
      "0.5757575757575758\n"
     ]
    }
   ],
   "source": [
    "data1_not_confident = data1.loc[data1['confidence']== 'not_confident']\n",
    "a = data1_not_confident['correct_label'].value_counts()\n",
    "print(len(data1_not_confident))\n",
    "print(a)\n",
    "print(a[1] / len(data1_not_confident))\n",
    "data2_not_confident = data2.loc[data2['confidence']=='not_confident']\n",
    "b = data2_not_confident['correct_label'].value_counts()\n",
    "print(len(data2_not_confident))\n",
    "print(b)\n",
    "print(b[1] / len(data2_not_confident))\n",
    "data3_not_confident = data3.loc[data3['confidence']=='not_confident']\n",
    "c = data3_not_confident['correct_label'].value_counts()\n",
    "print(len(data3_not_confident))\n",
    "print(c)\n",
    "print(c[1] / len(data3_not_confident))"
   ]
  },
  {
   "cell_type": "code",
   "execution_count": 14,
   "metadata": {},
   "outputs": [
    {
     "name": "stdout",
     "output_type": "stream",
     "text": [
      "373\n",
      "False    203\n",
      "True     170\n",
      "Name: correct_label, dtype: int64\n",
      "0.45576407506702415\n",
      "457\n",
      "False    267\n",
      "True     190\n",
      "Name: correct_label, dtype: int64\n",
      "0.41575492341356673\n",
      "719\n",
      "False    400\n",
      "True     319\n",
      "Name: correct_label, dtype: int64\n",
      "0.44367176634214184\n",
      "\n",
      "NOW FOR NO\n",
      "\n",
      "275\n",
      "True     226\n",
      "False     49\n",
      "Name: correct_label, dtype: int64\n",
      "0.8218181818181818\n",
      "191\n",
      "True     162\n",
      "False     29\n",
      "Name: correct_label, dtype: int64\n",
      "0.8481675392670157\n",
      "361\n",
      "True     315\n",
      "False     46\n",
      "Name: correct_label, dtype: int64\n",
      "0.8725761772853186\n"
     ]
    }
   ],
   "source": [
    "# Compare the accuracy of the \"Yes\" and \"No\" labels\n",
    "data1_no = data1.loc[data1['label']=='Yes']\n",
    "a = data1_no['correct_label'].value_counts()\n",
    "print(len(data1_yes))\n",
    "print(a)\n",
    "print(a[1] / len(data1_yes))\n",
    "data2_yes = data2.loc[data2['label']=='Yes']\n",
    "b = data2_yes['correct_label'].value_counts()\n",
    "print(len(data2_yes))\n",
    "print(b)\n",
    "print(b[1] / len(data2_yes))\n",
    "data3_yes = data3.loc[data3['label']=='Yes']\n",
    "c = data3_yes['correct_label'].value_counts()\n",
    "print(len(data3_yes))\n",
    "print(c)\n",
    "print(c[1] / len(data3_yes))\n",
    "\n",
    "print(\"\\nNOW FOR NO\\n\")\n",
    "data1_no = data1.loc[data1['label']=='No']\n",
    "a = data1_no['correct_label'].value_counts()\n",
    "print(len(data1_no))\n",
    "print(a)\n",
    "print(a[1] / len(data1_no))\n",
    "data2_no = data2.loc[data2['label']=='No']\n",
    "b = data2_no['correct_label'].value_counts()\n",
    "print(len(data2_no))\n",
    "print(b)\n",
    "print(b[1] / len(data2_no))\n",
    "data3_no = data3.loc[data3['label']=='No']\n",
    "c = data3_no['correct_label'].value_counts()\n",
    "print(len(data3_no))\n",
    "print(c)\n",
    "print(c[1] / len(data3_no))\n",
    "\n"
   ]
  },
  {
   "cell_type": "code",
   "execution_count": 26,
   "metadata": {},
   "outputs": [
    {
     "data": {
      "text/plain": [
       "0      Yes\n",
       "1       No\n",
       "2       No\n",
       "3      Yes\n",
       "4       No\n",
       "      ... \n",
       "643     No\n",
       "644    Yes\n",
       "645     No\n",
       "646     No\n",
       "647     No\n",
       "Name: confidence, Length: 648, dtype: object"
      ]
     },
     "execution_count": 26,
     "metadata": {},
     "output_type": "execute_result"
    }
   ],
   "source": [
    "data1['confidence']"
   ]
  },
  {
   "cell_type": "code",
   "execution_count": null,
   "metadata": {},
   "outputs": [],
   "source": [
    "# Exclude labels which had a low confidence\n",
    "\n",
    "# Exclude labels which all workers didn't agree on\n"
   ]
  },
  {
   "cell_type": "code",
   "execution_count": 66,
   "metadata": {},
   "outputs": [
    {
     "name": "stdout",
     "output_type": "stream",
     "text": [
      "A29HILIOBLRW1S    47\n",
      "A2EYD5BP3AKLIE    37\n",
      "A64F60OM8VDDQ     33\n",
      "AFA73M8WJKEN0     29\n",
      "ACU8RTAZQU1GP     28\n",
      "                  ..\n",
      "A2N8CRZSSKEDH3     1\n",
      "A1FDCIC289ILHM     1\n",
      "AZHNR434Q0PCF      1\n",
      "ASXWSNSIHXAHT      1\n",
      "AV6C736XAEG67      1\n",
      "Name: WorkerId, Length: 111, dtype: int64\n",
      "A3UBH7E0BEB23K    73\n",
      "AXJCV4FWC4BGQ     36\n",
      "APXN6ZCXRGB5M     33\n",
      "A23LU9N9IT220U    32\n",
      "A19940RY4CF491    23\n",
      "                  ..\n",
      "A3EJ9921TCZUEJ     1\n",
      "A33SZTK9OMONNB     1\n",
      "A3T467USWU7ZOY     1\n",
      "A10NF5TK6IFNX6     1\n",
      "A3335ASFR3L0Z8     1\n",
      "Name: WorkerId, Length: 133, dtype: int64\n",
      "A2MI7L5QRNPV1Y    115\n",
      "AN0FKN6TFVP2D      77\n",
      "AUFQA9PSISZOX      64\n",
      "AXJCV4FWC4BGQ      50\n",
      "A2EYD5BP3AKLIE     48\n",
      "                 ... \n",
      "A2E681TUBSHLWD      1\n",
      "A1J3NRLGFEIS5H      1\n",
      "A2QX3YJXAAHHVV      1\n",
      "A36QGCT3MMXC4Q      1\n",
      "AJQGWGESKQT4Y       1\n",
      "Name: WorkerId, Length: 136, dtype: int64\n"
     ]
    }
   ],
   "source": [
    "print(data1['WorkerId'].value_counts())\n",
    "print(data2['WorkerId'].value_counts())\n",
    "print(data3['WorkerId'].value_counts())"
   ]
  },
  {
   "cell_type": "code",
   "execution_count": 67,
   "metadata": {},
   "outputs": [
    {
     "name": "stdout",
     "output_type": "stream",
     "text": [
      "{'ABDXLB3YCM6XY', 'A14CCWIFLDPZLA', 'AFA73M8WJKEN0', 'A3OTX62IHUFV3D', 'A2E6Z6NDAES26P', 'AXJCV4FWC4BGQ', 'A3MHMMTUTOJQ1V', 'A26EEQE7NYLQNI', 'A1CZZ8E7K3CCV9', 'A27JUKQFY00XP7', 'A3ZSLY8UQDRC3', 'A1K0LRUQUN5I0J', 'A2WYZLG8J526TQ', 'APGOZK7LO6YQF', 'A2VUF0V7HT51Q3', 'A3A6BVDDO2M1C9', 'A5J3EJX1ADIS', 'AMOBC1D09Q381', 'A38AQF5BPHJS4C', 'A1MDKN4ZIZYH2O', 'A2V40CL511Z37G', 'A1LJRMT897VBKP', 'A2ZLJQWCM8KU36', 'A1XHSOHTQ81V4O', 'A3T467USWU7ZOY', 'A2J9NFY45NKR2N', 'A2EYD5BP3AKLIE', 'A29HILIOBLRW1S', 'ARPBDM5QZ4XQC', 'A23LU9N9IT220U', 'A1HEB7F1J8ENZI', 'A2ZT2Z0LQ05EGZ', 'A38ZFP228C5112', 'AV6C736XAEG67', 'ADVCIFLB5A9B', 'A30LVINW75GV0V', 'A2N8CRZSSKEDH3', 'A3EM9OBO5KU9GG', 'A2LBYE8RUQBQYG'}\n",
      "39\n",
      "8\n",
      "11\n"
     ]
    }
   ],
   "source": [
    "print(set(data1['WorkerId'].unique()).intersection(set(data2['WorkerId'].unique())))\n",
    "print(len(set(data1['WorkerId'].unique()).intersection(set(data2['WorkerId'].unique()))))\n",
    "print(len(set(data1['WorkerId'].unique()).intersection(set(data3['WorkerId'].unique()))))\n",
    "print(len(set(data2['WorkerId'].unique()).intersection(set(data3['WorkerId'].unique()))))\n",
    "# print(data2['WorkerId'].value_counts())"
   ]
  },
  {
   "cell_type": "code",
   "execution_count": 17,
   "metadata": {},
   "outputs": [
    {
     "name": "stdout",
     "output_type": "stream",
     "text": [
      "False    137\n",
      "True      78\n",
      "Name: label, dtype: int64\n",
      "0.3611111111111111\n",
      "False    119\n",
      "True      96\n",
      "Name: label, dtype: int64\n",
      "0.4444444444444444\n",
      "False    165\n",
      "True      50\n",
      "Name: label, dtype: int64\n",
      "0.23148148148148148\n"
     ]
    }
   ],
   "source": [
    "# Find the number of comments in the data that all labelers agreed on\n",
    "a1 = data1.groupby(['Input.url']).label.nunique().eq(1).value_counts()\n",
    "a2 = data2.groupby(['Input.url']).label.nunique().eq(1).value_counts()\n",
    "a3 = data3.groupby(['Input.url']).label.nunique().eq(1).value_counts()\n",
    "print(a1)\n",
    "print(a1[1]/(n_data_points/3))\n",
    "print(a2)\n",
    "print(a2[1]/(n_data_points/3))\n",
    "print(a3)\n",
    "print(a3[1]/(n_data_points/3))\n",
    "\n"
   ]
  },
  {
   "cell_type": "code",
   "execution_count": 31,
   "metadata": {},
   "outputs": [
    {
     "data": {
      "text/plain": [
       "'Yes'"
      ]
     },
     "execution_count": 31,
     "metadata": {},
     "output_type": "execute_result"
    }
   ],
   "source": [
    "data1['label'].iloc[0]"
   ]
  },
  {
   "cell_type": "code",
   "execution_count": 71,
   "metadata": {},
   "outputs": [
    {
     "name": "stdout",
     "output_type": "stream",
     "text": [
      "a3\n",
      "True    78\n",
      "Name: label, dtype: int64\n",
      "a4\n",
      "True    96\n",
      "Name: label, dtype: int64\n",
      "a5\n",
      "True    50\n",
      "Name: label, dtype: int64\n",
      "\n",
      "YES URLS\n",
      "53\n",
      "85\n",
      "48\n",
      "\n",
      "NO URLS\n",
      "25\n",
      "11\n",
      "2\n"
     ]
    }
   ],
   "source": [
    "# get the subset of data that all labelers agreed on for each dataset\n",
    "\n",
    "data1_unan_urls = []\n",
    "data2_unan_urls = []\n",
    "data3_unan_urls = []\n",
    "\n",
    "data1_yes_urls = []\n",
    "data2_yes_urls = []\n",
    "data3_yes_urls = []\n",
    "\n",
    "data1_no_urls = []\n",
    "data2_no_urls = []\n",
    "data3_no_urls = []\n",
    "\n",
    "for url in data1['Input.url'].unique():\n",
    "    if data1.groupby(['Input.url']).label.nunique().eq(1).loc[url] == True:\n",
    "        data1_unan_urls.append(url)\n",
    "        if data1.loc[data1['Input.url']==url]['label'].iloc[0] ==\"Yes\":\n",
    "            data1_yes_urls.append(url)\n",
    "        elif data1.loc[data1['Input.url']==url]['label'].iloc[0] ==\"No\":\n",
    "            data1_no_urls.append(url)\n",
    "    if data2.groupby(['Input.url']).label.nunique().eq(1).loc[url] == True:\n",
    "        data2_unan_urls.append(url)\n",
    "        if data2.loc[data2['Input.url']==url]['label'].iloc[0] ==\"Yes\":\n",
    "            data2_yes_urls.append(url)\n",
    "        elif data2.loc[data2['Input.url']==url]['label'].iloc[0] ==\"No\":\n",
    "            data2_no_urls.append(url)\n",
    "    if data3.groupby(['Input.url']).label.nunique().eq(1).loc[url] == True:\n",
    "        data3_unan_urls.append(url)\n",
    "        if data3.loc[data3['Input.url']==url]['label'].iloc[0] ==\"Yes\":\n",
    "            data3_yes_urls.append(url)\n",
    "        elif data3.loc[data3['Input.url']==url]['label'].iloc[0] ==\"No\":\n",
    "            data3_no_urls.append(url)\n",
    "\n",
    "data1_unanimous = data1[data1['Input.url'].isin(data1_unan_urls)]\n",
    "# print(len(data1_unanimous))\n",
    "data2_unanimous = data2[data2['Input.url'].isin(data2_unan_urls)]\n",
    "# print(len(data2_unanimous))\n",
    "data3_unanimous = data3[data3['Input.url'].isin(data3_unan_urls)]\n",
    "\n",
    "a3 = data1_unanimous.groupby(['Input.url']).label.nunique().eq(1).value_counts()\n",
    "a4 = data2_unanimous.groupby(['Input.url']).label.nunique().eq(1).value_counts()\n",
    "a5 = data3_unanimous.groupby(['Input.url']).label.nunique().eq(1).value_counts()\n",
    "print(\"a3\")\n",
    "print(a3)\n",
    "\n",
    "print(\"a4\")\n",
    "print(a4)\n",
    "\n",
    "print(\"a5\")\n",
    "print(a5)\n",
    "\n",
    "print(\"\\nYES URLS\")\n",
    "print(len(data1_yes_urls))\n",
    "print(len(data2_yes_urls))\n",
    "print(len(data3_yes_urls))\n",
    "\n",
    "print(\"\\nNO URLS\")\n",
    "print(len(data1_no_urls))\n",
    "print(len(data2_no_urls))\n",
    "print(len(data3_no_urls))\n",
    "\n",
    "# for url in data1['Input.url'].unique():\n",
    "#     if data1.loc[data1['Input.url']==url, 'label'].value_counts().iloc[0] != data2.loc[data2['Input.url']==url, 'label'].value_counts().iloc[0]:\n",
    "#         print(url)\n",
    "#         print(data1.loc[data1['Input.url']==url, 'label'].value_counts())\n",
    "#         print(data2.loc[data2['Input.url']==url, 'label'].value_counts())\n",
    "#         print('\\n')\n",
    "\n",
    "# for url in data1['Input.url'].unique():\n",
    "#     if data1.loc[data1['Input.url']==url, 'label'].value_counts().iloc[0] != data2.loc[data2['Input.url']==url, 'label'].value_counts().iloc[0]:\n",
    "#         print(url)\n",
    "#         print(data1.loc[data1['Input.url']==url, 'label'].value_counts())\n",
    "#         print(data2.loc[data2['Input.url']==url, 'label'].value_counts())\n",
    "#         print('\\n')\n",
    "\n",
    "# for i in data1.iterrows():\n",
    "#     if i[1]['label'] != i[1]['Input.m_1']:\n",
    "#         print(i)\n",
    "#         break\n",
    "\n",
    "# data1_unan = data1[[\"Input.url\",\"label\",\"Input.m_1\"]]\n",
    "# data2_unan = data2[[\"Input.url\",\"label\",\"Input.m_1\"]]\n",
    "\n",
    "# data1_unan = data1_unan[]\n",
    "\n",
    "\n",
    "# data1_unan = data1[data1.groupby(['Input.url']).label.nunique().eq(1)]\n",
    "# data2_unan = data2[data2.groupby(['Input.url']).label.nunique().eq(1)]\n"
   ]
  },
  {
   "cell_type": "code",
   "execution_count": 72,
   "metadata": {},
   "outputs": [
    {
     "name": "stdout",
     "output_type": "stream",
     "text": [
      "NUMBER OF YES URLS\n",
      "53\n",
      "NUMBER OF NO URLS\n",
      "25\n",
      "\n",
      "\n",
      "NUMBER OF YES URLS\n",
      "129\n",
      "NUMBER OF NO URLS\n",
      "86\n",
      "\n",
      "\n",
      "True     207\n",
      "False    180\n",
      "Name: correct_label, dtype: int64\n",
      "TOTAL YES: 387\n",
      "\n",
      "True     189\n",
      "False     72\n",
      "Name: correct_label, dtype: int64\n",
      "TOTAL NO: 261\n",
      "\n",
      "TOTAL: 648\n",
      "0.5348837209302325\n",
      "0.7241379310344828\n",
      "\n",
      "\n",
      "\n",
      "False    255\n",
      "True     246\n",
      "Name: correct_label, dtype: int64\n",
      "TOTAL YES: 501\n",
      "\n",
      "True     106\n",
      "False     41\n",
      "Name: correct_label, dtype: int64\n",
      "TOTAL NO: 147\n",
      "\n",
      "TOTAL: 648\n",
      "0.49101796407185627\n",
      "0.7210884353741497\n",
      "\n",
      "\n",
      "\n",
      "True     449\n",
      "False    346\n",
      "Name: correct_label, dtype: int64\n",
      "TOTAL YES: 795\n",
      "\n",
      "True     185\n",
      "False    100\n",
      "Name: correct_label, dtype: int64\n",
      "TOTAL NO: 285\n",
      "\n",
      "TOTAL: 1080\n",
      "0.5647798742138365\n",
      "0.6491228070175439\n"
     ]
    }
   ],
   "source": [
    "# analyze the accuracy of the label agreed upon by the majority of labelers (majority voting)\n",
    "\n",
    "\n",
    "\n",
    "# data1_majority_yes_urls = data1_yes_urls\n",
    "# data2_majority_yes_urls = data2_yes_urls\n",
    "# data3_majority_yes_urls = data3_yes_urls\n",
    "\n",
    "\n",
    "data1_majority_yes_urls = [x for x in data1_yes_urls]\n",
    "data2_majority_yes_urls = [x for x in data2_yes_urls]\n",
    "data3_majority_yes_urls = [x for x in data3_yes_urls]\n",
    "\n",
    "# data1_majority_no_urls = data1_no_urls\n",
    "# data2_majority_no_urls = data2_no_urls\n",
    "# data3_majority_no_urls = data3_no_urls\n",
    "\n",
    "data1_majority_no_urls = [x for x in data1_no_urls]\n",
    "data2_majority_no_urls = [x for x in data2_no_urls]\n",
    "data3_majority_no_urls = [x for x in data3_no_urls]\n",
    "\n",
    "print(\"NUMBER OF YES URLS\")\n",
    "print(len(data1_majority_yes_urls))\n",
    "\n",
    "print(\"NUMBER OF NO URLS\")\n",
    "print(len(data1_majority_no_urls))\n",
    "print(\"\\n\")\n",
    "\n",
    "for url in data1['Input.url'].unique():\n",
    "    if data1.groupby(['Input.url']).label.nunique().eq(2).loc[url] == True:\n",
    "        # print(data1.loc[data1['Input.url']==url]['label'].value_counts())\n",
    "        # print(data1.loc[data1['Input.url']==url]['label'].value_counts()[1])\n",
    "        # print(data1.loc[data1['Input.url']==url]['label'].value_counts()[0])\n",
    "        # break\n",
    "        if data1.loc[data1['Input.url']==url]['label'].value_counts()['Yes'] > data1.loc[data1['Input.url']==url]['label'].value_counts()['No']:\n",
    "            data1_majority_yes_urls.append(url)\n",
    "        elif data1.loc[data1['Input.url']==url]['label'].value_counts()['Yes'] < data1.loc[data1['Input.url']==url]['label'].value_counts()['No']:\n",
    "            data1_majority_no_urls.append(url)\n",
    "    if data2.groupby(['Input.url']).label.nunique().eq(2).loc[url] == True:\n",
    "        if data2.loc[data2['Input.url']==url]['label'].value_counts()['Yes'] > data2.loc[data2['Input.url']==url]['label'].value_counts()['No']:\n",
    "            data2_majority_yes_urls.append(url)\n",
    "        elif data2.loc[data2['Input.url']==url]['label'].value_counts()['Yes'] < data2.loc[data2['Input.url']==url]['label'].value_counts()['No']:\n",
    "            data2_majority_no_urls.append(url)\n",
    "    if data3.groupby(['Input.url']).label.nunique().eq(2).loc[url] == True:\n",
    "        if data3.loc[data3['Input.url']==url]['label'].value_counts()['Yes'] > data3.loc[data3['Input.url']==url]['label'].value_counts()['No']:\n",
    "            data3_majority_yes_urls.append(url)\n",
    "        elif data3.loc[data3['Input.url']==url]['label'].value_counts()['Yes'] < data3.loc[data3['Input.url']==url]['label'].value_counts()['No']:\n",
    "            data3_majority_no_urls.append(url)\n",
    "\n",
    "print(\"NUMBER OF YES URLS\")\n",
    "print(len(data1_majority_yes_urls))\n",
    "\n",
    "print(\"NUMBER OF NO URLS\")\n",
    "print(len(data1_majority_no_urls))\n",
    "print(\"\\n\")\n",
    "\n",
    "data1_majority_yes = data1.loc[data1['Input.url'].isin(data1_majority_yes_urls)]\n",
    "data1_majority_no = data1.loc[data1['Input.url'].isin(data1_majority_no_urls)]\n",
    "\n",
    "data2_majority_yes = data2.loc[data2['Input.url'].isin(data2_majority_yes_urls)]\n",
    "data2_majority_no = data2.loc[data2['Input.url'].isin(data2_majority_no_urls)]\n",
    "\n",
    "data3_majority_yes = data3.loc[data3['Input.url'].isin(data3_majority_yes_urls)]\n",
    "data3_majority_no = data3.loc[data3['Input.url'].isin(data3_majority_no_urls)]\n",
    "\n",
    "a1_yes = data1_majority_yes['correct_label'].value_counts()\n",
    "a1_no = data1_majority_no['correct_label'].value_counts()\n",
    "print(a1_yes)\n",
    "print(\"TOTAL YES: \" + str(len(data1_majority_yes)) + \"\\n\")\n",
    "print(a1_no)\n",
    "print(\"TOTAL NO: \" + str(len(data1_majority_no)) + \"\\n\")\n",
    "print(\"TOTAL: \" + str(len(data1_majority_yes) + len(data1_majority_no)))\n",
    "print(a1_yes[1]/len(data1_majority_yes))\n",
    "print(a1_no[1]/len(data1_majority_no))\n",
    "print(\"\\n\\n\")\n",
    "\n",
    "a2_yes = data2_majority_yes['correct_label'].value_counts()\n",
    "a2_no = data2_majority_no['correct_label'].value_counts()\n",
    "print(a2_yes)\n",
    "print(\"TOTAL YES: \" + str(len(data2_majority_yes)) + \"\\n\")\n",
    "print(a2_no)\n",
    "print(\"TOTAL NO: \" + str(len(data2_majority_no)) + \"\\n\")\n",
    "print(\"TOTAL: \" + str(len(data2_majority_yes) + len(data2_majority_no)))\n",
    "print(a2_yes[1]/len(data2_majority_yes))\n",
    "print(a2_no[1]/len(data2_majority_no))\n",
    "print(\"\\n\\n\")\n",
    "\n",
    "a3_yes = data3_majority_yes['correct_label'].value_counts()\n",
    "a3_no = data3_majority_no['correct_label'].value_counts()\n",
    "print(a3_yes)\n",
    "print(\"TOTAL YES: \" + str(len(data3_majority_yes)) + \"\\n\")\n",
    "print(a3_no)\n",
    "print(\"TOTAL NO: \" + str(len(data3_majority_no)) + \"\\n\")\n",
    "print(\"TOTAL: \" + str(len(data3_majority_yes) + len(data3_majority_no)))\n",
    "print(a3_yes[1]/len(data3_majority_yes))\n",
    "print(a3_no[1]/len(data3_majority_no))\n",
    "\n",
    "\n",
    "# a2_yes = data4_majority_yes['correct_label'].value_counts()\n",
    "# a2_no = data4_majority_no['correct_label'].value_counts()\n",
    "# print(a4_yes)\n",
    "# print(a4_no)\n",
    "# print(a4_yes[1]/len(data4_majority_yes))\n",
    "# print(a4_no[1]/len(data4_majority_no))\n",
    "\n",
    "\n",
    "# data1_unanimous = data1[data1['Input.url'].isin(data1_majority_urls)]\n",
    "# # print(len(data1_unanimous))\n",
    "# data2_unanimous = data2[data2['Input.url'].isin(data2_majority_urls)]\n",
    "# # print(len(data2_unanimous))\n",
    "# data3_unanimous = data3[data3['Input.url'].isin(data3_majority_urls)]\n",
    "\n",
    "# a3 = data1_unanimous.groupby(['Input.url']).label.nunique().eq(1).value_counts()\n",
    "# a4 = data2_unanimous.groupby(['Input.url']).label.nunique().eq(1).value_counts()\n",
    "# a5 = data3_unanimous.groupby(['Input.url']).label.nunique().eq(1).value_counts()\n",
    "# print(\"a3\")\n",
    "# print(a3)\n",
    "\n",
    "# print(\"a4\")\n",
    "# print(a4)\n",
    "\n",
    "# print(\"a5\")\n",
    "# print(a5)"
   ]
  },
  {
   "cell_type": "code",
   "execution_count": 60,
   "metadata": {},
   "outputs": [
    {
     "name": "stdout",
     "output_type": "stream",
     "text": [
      "{False}\n",
      "{False}\n"
     ]
    }
   ],
   "source": [
    "print(set([data1_majority_yes_urls in data1_majority_no_urls]))\n",
    "print(set([data1_majority_no_urls in data1_majority_yes_urls]))"
   ]
  },
  {
   "cell_type": "code",
   "execution_count": 66,
   "metadata": {},
   "outputs": [
    {
     "name": "stdout",
     "output_type": "stream",
     "text": [
      "No     2\n",
      "Yes    1\n",
      "Name: label, dtype: int64\n",
      "1\n",
      "1\n",
      "2\n",
      "Yes    2\n",
      "No     1\n",
      "Name: label, dtype: int64\n",
      "2\n",
      "1\n",
      "2\n"
     ]
    }
   ],
   "source": [
    "for url in data1['Input.url'].loc[range(0,5)].unique():\n",
    "        print(data1.loc[data1['Input.url']==url]['label'].value_counts())\n",
    "        print(data1.loc[data1['Input.url']==url]['label'].value_counts()['Yes'])\n",
    "        print(data1.loc[data1['Input.url']==url]['label'].value_counts()[1])\n",
    "        print(data1.loc[data1['Input.url']==url]['label'].value_counts()[0])"
   ]
  },
  {
   "cell_type": "code",
   "execution_count": 46,
   "metadata": {},
   "outputs": [
    {
     "name": "stdout",
     "output_type": "stream",
     "text": [
      "Yes    240\n",
      "Name: label, dtype: int64\n",
      "Yes    479\n",
      "No     361\n",
      "Name: label, dtype: int64\n"
     ]
    }
   ],
   "source": [
    "print(data3_majority_yes['label'].value_counts())\n",
    "print(data3_majority_no['label'].value_counts())"
   ]
  },
  {
   "cell_type": "code",
   "execution_count": 21,
   "metadata": {},
   "outputs": [
    {
     "data": {
      "text/plain": [
       "True     231\n",
       "False    183\n",
       "Name: correct_label, dtype: int64"
      ]
     },
     "execution_count": 21,
     "metadata": {},
     "output_type": "execute_result"
    }
   ],
   "source": [
    "a1_no"
   ]
  },
  {
   "cell_type": "code",
   "execution_count": 20,
   "metadata": {},
   "outputs": [
    {
     "name": "stdout",
     "output_type": "stream",
     "text": [
      "a3\n",
      "True    78\n",
      "Name: label, dtype: int64\n",
      "a4\n",
      "True    96\n",
      "Name: label, dtype: int64\n",
      "a5\n",
      "True    50\n",
      "Name: label, dtype: int64\n"
     ]
    }
   ],
   "source": []
  },
  {
   "cell_type": "code",
   "execution_count": 21,
   "metadata": {},
   "outputs": [
    {
     "name": "stdout",
     "output_type": "stream",
     "text": [
      "78.0\n",
      "True     165\n",
      "False     69\n",
      "Name: correct_label, dtype: int64\n",
      "0.7051282051282052\n",
      "96.0\n",
      "True     174\n",
      "False    114\n",
      "Name: correct_label, dtype: int64\n",
      "0.6041666666666666\n",
      "50.0\n",
      "True     205\n",
      "False     45\n",
      "Name: correct_label, dtype: int64\n",
      "0.82\n"
     ]
    },
    {
     "name": "stderr",
     "output_type": "stream",
     "text": [
      "<ipython-input-21-38f66a6a725a>:5: SettingWithCopyWarning: \n",
      "A value is trying to be set on a copy of a slice from a DataFrame.\n",
      "Try using .loc[row_indexer,col_indexer] = value instead\n",
      "\n",
      "See the caveats in the documentation: https://pandas.pydata.org/pandas-docs/stable/user_guide/indexing.html#returning-a-view-versus-a-copy\n",
      "  data1_unanimous['correct_label'] = (data1_unanimous['label']==data1_unanimous['Input.m_1'])\n",
      "<ipython-input-21-38f66a6a725a>:11: SettingWithCopyWarning: \n",
      "A value is trying to be set on a copy of a slice from a DataFrame.\n",
      "Try using .loc[row_indexer,col_indexer] = value instead\n",
      "\n",
      "See the caveats in the documentation: https://pandas.pydata.org/pandas-docs/stable/user_guide/indexing.html#returning-a-view-versus-a-copy\n",
      "  data2_unanimous['correct_label'] = (data2_unanimous['label']==data2_unanimous['Input.m_1'])\n",
      "<ipython-input-21-38f66a6a725a>:17: SettingWithCopyWarning: \n",
      "A value is trying to be set on a copy of a slice from a DataFrame.\n",
      "Try using .loc[row_indexer,col_indexer] = value instead\n",
      "\n",
      "See the caveats in the documentation: https://pandas.pydata.org/pandas-docs/stable/user_guide/indexing.html#returning-a-view-versus-a-copy\n",
      "  data3_unanimous['correct_label'] = (data3_unanimous['label']==data3_unanimous['Input.m_1'])\n"
     ]
    }
   ],
   "source": [
    "# For the comments that all labelers agreed on, calculate the percentage of agreement with the ground truth lables\n",
    "# Remember that three or five  different people labeled each unanimous comment in all datasets derived below. \n",
    "# For this reason, the percentage of agreement is the percentage of unanimous comments that were labeled correctly.\n",
    "\n",
    "data1_unanimous['correct_label'] = (data1_unanimous['label']==data1_unanimous['Input.m_1'])\n",
    "print(len(data1_unanimous) / data1_n_labellers_per_comment)\n",
    "a = data1_unanimous['correct_label'].value_counts()\n",
    "print(a)\n",
    "print(a[1]/len(data1_unanimous))\n",
    "\n",
    "data2_unanimous['correct_label'] = (data2_unanimous['label']==data2_unanimous['Input.m_1'])\n",
    "print(len(data2_unanimous) / data2_n_labellers_per_comment)\n",
    "b = data2_unanimous['correct_label'].value_counts()\n",
    "print(b)\n",
    "print(b[1]/len(data2_unanimous))\n",
    "\n",
    "data3_unanimous['correct_label'] = (data3_unanimous['label']==data3_unanimous['Input.m_1'])\n",
    "print(len(data3_unanimous) / data3_n_labellers_per_comment)\n",
    "c = data3_unanimous['correct_label'].value_counts()\n",
    "print(c)\n",
    "print(c[1]/len(data3_unanimous))"
   ]
  }
 ],
 "metadata": {
  "kernelspec": {
   "display_name": "Python 3.9.2 64-bit",
   "language": "python",
   "name": "python3"
  },
  "language_info": {
   "codemirror_mode": {
    "name": "ipython",
    "version": 3
   },
   "file_extension": ".py",
   "mimetype": "text/x-python",
   "name": "python",
   "nbconvert_exporter": "python",
   "pygments_lexer": "ipython3",
   "version": "3.9.2"
  },
  "orig_nbformat": 4,
  "vscode": {
   "interpreter": {
    "hash": "9f6ad2f52b6f2102eb7f095f544b465a70462f6b5363a9345dbb680720583951"
   }
  }
 },
 "nbformat": 4,
 "nbformat_minor": 2
}
