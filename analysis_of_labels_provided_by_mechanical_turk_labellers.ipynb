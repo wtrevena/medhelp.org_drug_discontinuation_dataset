{
 "cells": [
  {
   "cell_type": "code",
   "execution_count": 2,
   "metadata": {},
   "outputs": [],
   "source": [
    "import pandas as pd\n",
    "import json\n",
    "import numpy as np"
   ]
  },
  {
   "cell_type": "code",
   "execution_count": 3,
   "metadata": {},
   "outputs": [],
   "source": [
    "no_requirements_responses = pd.read_csv(r'C:\\Users\\Will\\Files\\Florida\\Research\\NLP\\Mechanical Turk Datasets\\No Requirements - Drug Discontinuation 1__Batch_4794452_batch_results.csv')\n",
    "greater_than_85_percent_acceptance_responses = pd.read_csv(r'C:\\Users\\Will\\Files\\Florida\\Research\\NLP\\Mechanical Turk Datasets\\greater than 85 percent satisfaction - Drug Discontinuation 4__Batch_4794448_batch_results.csv')"
   ]
  },
  {
   "cell_type": "code",
   "execution_count": 4,
   "metadata": {},
   "outputs": [],
   "source": [
    "data1 = no_requirements_responses\n",
    "data2 = greater_than_85_percent_acceptance_responses"
   ]
  },
  {
   "cell_type": "code",
   "execution_count": 5,
   "metadata": {},
   "outputs": [
    {
     "data": {
      "text/plain": [
       "Index(['HITId', 'HITTypeId', 'Title', 'Description', 'Keywords', 'Reward',\n",
       "       'CreationTime', 'MaxAssignments', 'RequesterAnnotation',\n",
       "       'AssignmentDurationInSeconds', 'AutoApprovalDelayInSeconds',\n",
       "       'Expiration', 'NumberOfSimilarHITs', 'LifetimeInSeconds',\n",
       "       'AssignmentId', 'WorkerId', 'AssignmentStatus', 'AcceptTime',\n",
       "       'SubmitTime', 'AutoApprovalTime', 'ApprovalTime', 'RejectionTime',\n",
       "       'RequesterFeedback', 'WorkTimeInSeconds', 'LifetimeApprovalRate',\n",
       "       'Last30DaysApprovalRate', 'Last7DaysApprovalRate', 'Input.m_1',\n",
       "       'Input.url', 'Input.text_', 'Input.text', 'Answer.taskAnswers',\n",
       "       'Approve', 'Reject'],\n",
       "      dtype='object')"
      ]
     },
     "execution_count": 5,
     "metadata": {},
     "output_type": "execute_result"
    }
   ],
   "source": [
    "# data1.head()\n",
    "data1.columns"
   ]
  },
  {
   "cell_type": "code",
   "execution_count": 6,
   "metadata": {},
   "outputs": [],
   "source": [
    "data1['Input.m_1'] = data1['Input.m_1'].str.split(' ').str[0]\n",
    "data2['Input.m_1'] = data2['Input.m_1'].str.split(' ').str[0]"
   ]
  },
  {
   "cell_type": "code",
   "execution_count": 7,
   "metadata": {},
   "outputs": [
    {
     "data": {
      "text/plain": [
       "0    No\n",
       "1    No\n",
       "2    No\n",
       "3    No\n",
       "4    No\n",
       "Name: Input.m_1, dtype: object"
      ]
     },
     "execution_count": 7,
     "metadata": {},
     "output_type": "execute_result"
    }
   ],
   "source": [
    "data1['Input.m_1'].head()"
   ]
  },
  {
   "cell_type": "code",
   "execution_count": 8,
   "metadata": {},
   "outputs": [
    {
     "data": {
      "text/plain": [
       "0    [{\"q1a\":{\"no\":false,\"yes\":true},\"q1b\":{\"not_co...\n",
       "1    [{\"q1a\":{\"no\":true,\"yes\":false},\"q1b\":{\"not_co...\n",
       "2    [{\"q1a\":{\"no\":true,\"yes\":false},\"q1b\":{\"not_co...\n",
       "3    [{\"q1a\":{\"no\":false,\"yes\":true},\"q1b\":{\"not_co...\n",
       "4    [{\"q1a\":{\"no\":true,\"yes\":false},\"q1b\":{\"not_co...\n",
       "Name: Answer.taskAnswers, dtype: object"
      ]
     },
     "execution_count": 8,
     "metadata": {},
     "output_type": "execute_result"
    }
   ],
   "source": [
    "data1['Answer.taskAnswers'].head()"
   ]
  },
  {
   "cell_type": "code",
   "execution_count": 9,
   "metadata": {},
   "outputs": [
    {
     "data": {
      "text/plain": [
       "'[{\"q1a\":{\"no\":false,\"yes\":true},\"q1b\":{\"not_confident\":false,\"somewhat_confident\":false,\"very_confident\":true},\"q2a\":{\"q2a1\":false,\"q2a2\":false,\"q2a3\":false,\"q2a4\":false,\"q2a5\":true,\"q2a6\":false,\"q2a7\":false,\"q2a8\":false},\"q2b\":{\"not_confident\":true,\"somewhat_confident\":false,\"very_confident\":false}}]'"
      ]
     },
     "execution_count": 9,
     "metadata": {},
     "output_type": "execute_result"
    }
   ],
   "source": [
    "data1['Answer.taskAnswers'][0]"
   ]
  },
  {
   "cell_type": "code",
   "execution_count": 10,
   "metadata": {},
   "outputs": [],
   "source": [
    "data1 = data1.join(data1['Answer.taskAnswers'].apply(json.loads).apply(pd.Series))\n",
    "data2 = data2.join(data2['Answer.taskAnswers'].apply(json.loads).apply(pd.Series))"
   ]
  },
  {
   "cell_type": "code",
   "execution_count": 11,
   "metadata": {},
   "outputs": [
    {
     "data": {
      "text/plain": [
       "Index([                      'HITId',                   'HITTypeId',\n",
       "                             'Title',                 'Description',\n",
       "                          'Keywords',                      'Reward',\n",
       "                      'CreationTime',              'MaxAssignments',\n",
       "               'RequesterAnnotation', 'AssignmentDurationInSeconds',\n",
       "        'AutoApprovalDelayInSeconds',                  'Expiration',\n",
       "               'NumberOfSimilarHITs',           'LifetimeInSeconds',\n",
       "                      'AssignmentId',                    'WorkerId',\n",
       "                  'AssignmentStatus',                  'AcceptTime',\n",
       "                        'SubmitTime',            'AutoApprovalTime',\n",
       "                      'ApprovalTime',               'RejectionTime',\n",
       "                 'RequesterFeedback',           'WorkTimeInSeconds',\n",
       "              'LifetimeApprovalRate',      'Last30DaysApprovalRate',\n",
       "             'Last7DaysApprovalRate',                   'Input.m_1',\n",
       "                         'Input.url',                 'Input.text_',\n",
       "                        'Input.text',          'Answer.taskAnswers',\n",
       "                           'Approve',                      'Reject',\n",
       "                                   0],\n",
       "      dtype='object')"
      ]
     },
     "execution_count": 11,
     "metadata": {},
     "output_type": "execute_result"
    }
   ],
   "source": [
    "data1.columns"
   ]
  },
  {
   "cell_type": "code",
   "execution_count": 12,
   "metadata": {},
   "outputs": [
    {
     "data": {
      "text/plain": [
       "0    {'q1a': {'no': False, 'yes': True}, 'q1b': {'n...\n",
       "1    {'q1a': {'no': True, 'yes': False}, 'q1b': {'n...\n",
       "2    {'q1a': {'no': True, 'yes': False}, 'q1b': {'n...\n",
       "3    {'q1a': {'no': False, 'yes': True}, 'q1b': {'n...\n",
       "4    {'q1a': {'no': True, 'yes': False}, 'q1b': {'n...\n",
       "Name: 0, dtype: object"
      ]
     },
     "execution_count": 12,
     "metadata": {},
     "output_type": "execute_result"
    }
   ],
   "source": [
    "data1[0].head()"
   ]
  },
  {
   "cell_type": "code",
   "execution_count": 13,
   "metadata": {},
   "outputs": [
    {
     "data": {
      "text/plain": [
       "0    Yes\n",
       "1     No\n",
       "2     No\n",
       "3    Yes\n",
       "4     No\n",
       "Name: label, dtype: object"
      ]
     },
     "execution_count": 13,
     "metadata": {},
     "output_type": "execute_result"
    }
   ],
   "source": [
    "def get_label(row):\n",
    "    if row[0]['q1a']['no']:\n",
    "        return 'No'\n",
    "    else:\n",
    "        return 'Yes'\n",
    "data1['label'] = data1.apply(get_label, axis=1)\n",
    "data2['label'] = data2.apply(get_label, axis=1)\n",
    "\n",
    "data1['label'].head()"
   ]
  },
  {
   "cell_type": "code",
   "execution_count": 29,
   "metadata": {},
   "outputs": [
    {
     "data": {
      "text/plain": [
       "0        very_confident\n",
       "1        very_confident\n",
       "2        very_confident\n",
       "3        very_confident\n",
       "4    somewhat_confident\n",
       "Name: confidence, dtype: object"
      ]
     },
     "execution_count": 29,
     "metadata": {},
     "output_type": "execute_result"
    }
   ],
   "source": [
    "def get_confidence(row):    \n",
    "    if row[0]['q1b']['very_confident']:\n",
    "        return 'very_confident'\n",
    "    elif row[0]['q1b']['somewhat_confident']:\n",
    "        return 'somewhat_confident'\n",
    "    else:\n",
    "        return 'not_confident'\n",
    "data1['confidence'] = data1.apply(get_confidence, axis=1)\n",
    "data2['confidence'] = data2.apply(get_confidence, axis=1)\n",
    "\n",
    "data1['confidence'].head()"
   ]
  },
  {
   "cell_type": "code",
   "execution_count": 14,
   "metadata": {},
   "outputs": [
    {
     "data": {
      "text/plain": [
       "0    False\n",
       "1     True\n",
       "2     True\n",
       "3    False\n",
       "4     True\n",
       "Name: correct_label, dtype: bool"
      ]
     },
     "execution_count": 14,
     "metadata": {},
     "output_type": "execute_result"
    }
   ],
   "source": [
    "# data1['correct_label'] = np.where(data1[0]['q1a'] data1['Answer.taskAnswers'].apply(lambda x: x[0]['correct_label']), 1, 0)\n",
    "data1['correct_label'] = (data1['label']==data1['Input.m_1'])\n",
    "data2['correct_label'] = (data2['label']==data2['Input.m_1'])\n",
    "data1['correct_label'].head()"
   ]
  },
  {
   "cell_type": "code",
   "execution_count": 16,
   "metadata": {},
   "outputs": [
    {
     "name": "stdout",
     "output_type": "stream",
     "text": [
      "True     396\n",
      "False    252\n",
      "Name: correct_label, dtype: int64\n",
      "True     352\n",
      "False    296\n",
      "Name: correct_label, dtype: int64\n"
     ]
    }
   ],
   "source": [
    "print(data1['correct_label'].value_counts())\n",
    "print(data2['correct_label'].value_counts())"
   ]
  },
  {
   "cell_type": "code",
   "execution_count": 31,
   "metadata": {},
   "outputs": [
    {
     "name": "stdout",
     "output_type": "stream",
     "text": [
      "648\n"
     ]
    }
   ],
   "source": [
    "n_data_points = len(data1)\n",
    "print(n_data_points)"
   ]
  },
  {
   "cell_type": "code",
   "execution_count": 32,
   "metadata": {},
   "outputs": [
    {
     "name": "stdout",
     "output_type": "stream",
     "text": [
      "0.6111111111111112\n",
      "0.5432098765432098\n"
     ]
    }
   ],
   "source": [
    "a = data1['correct_label'].value_counts()\n",
    "b = data2['correct_label'].value_counts()\n",
    "\n",
    "print(a[1]/n_data_points)\n",
    "print(b[1]/n_data_points)"
   ]
  },
  {
   "cell_type": "code",
   "execution_count": 24,
   "metadata": {},
   "outputs": [
    {
     "name": "stdout",
     "output_type": "stream",
     "text": [
      "0    {'q1a': {'no': False, 'yes': True}, 'q1b': {'n...\n",
      "1    {'q1a': {'no': True, 'yes': False}, 'q1b': {'n...\n",
      "2    {'q1a': {'no': True, 'yes': False}, 'q1b': {'n...\n",
      "3    {'q1a': {'no': False, 'yes': True}, 'q1b': {'n...\n",
      "4    {'q1a': {'no': True, 'yes': False}, 'q1b': {'n...\n",
      "Name: 0, dtype: object\n"
     ]
    }
   ],
   "source": [
    "print(data1[0].head())"
   ]
  },
  {
   "cell_type": "code",
   "execution_count": 43,
   "metadata": {},
   "outputs": [
    {
     "name": "stdout",
     "output_type": "stream",
     "text": [
      "384\n",
      "True     259\n",
      "False    125\n",
      "Name: correct_label, dtype: int64\n",
      "0.6744791666666666\n",
      "318\n",
      "True     213\n",
      "False    105\n",
      "Name: correct_label, dtype: int64\n",
      "0.6698113207547169\n"
     ]
    }
   ],
   "source": [
    "#\"q1b\":{\"not_confident\":false,\"somewhat_confident\":false,\"very_confident\":true}\n",
    "\n",
    "data1_very_confident = data1.loc[data1['confidence']== 'very_confident']\n",
    "a = data1_very_confident['correct_label'].value_counts()\n",
    "print(len(data1_very_confident))\n",
    "print(a)\n",
    "print(a[1] / len(data1_very_confident))\n",
    "\n",
    "data2_very_confident = data2.loc[data2['confidence']=='very_confident']\n",
    "b = data2_very_confident['correct_label'].value_counts()\n",
    "print(len(data2_very_confident))\n",
    "print(b)\n",
    "print(b[1] / len(data2_very_confident))\n",
    "\n",
    "# print(data2_very_confident['correct_label'].value_counts())"
   ]
  },
  {
   "cell_type": "code",
   "execution_count": 45,
   "metadata": {},
   "outputs": [
    {
     "name": "stdout",
     "output_type": "stream",
     "text": [
      "245\n",
      "False    124\n",
      "True     121\n",
      "Name: correct_label, dtype: int64\n",
      "0.49387755102040815\n",
      "292\n",
      "False    178\n",
      "True     114\n",
      "Name: correct_label, dtype: int64\n",
      "0.3904109589041096\n"
     ]
    }
   ],
   "source": [
    "data1_somewhat_confident = data1.loc[data1['confidence']== 'somewhat_confident']\n",
    "a = data1_somewhat_confident['correct_label'].value_counts()\n",
    "print(len(data1_somewhat_confident))\n",
    "print(a)\n",
    "print(a[1] / len(data1_somewhat_confident))\n",
    "data2_somewhat_confident = data2.loc[data2['confidence']=='somewhat_confident']\n",
    "b = data2_somewhat_confident['correct_label'].value_counts()\n",
    "print(len(data2_somewhat_confident))\n",
    "print(b)\n",
    "print(b[1] / len(data2_somewhat_confident))"
   ]
  },
  {
   "cell_type": "code",
   "execution_count": 46,
   "metadata": {},
   "outputs": [
    {
     "name": "stdout",
     "output_type": "stream",
     "text": [
      "19\n",
      "True     16\n",
      "False     3\n",
      "Name: correct_label, dtype: int64\n",
      "0.8421052631578947\n",
      "38\n",
      "True     25\n",
      "False    13\n",
      "Name: correct_label, dtype: int64\n",
      "0.6578947368421053\n"
     ]
    }
   ],
   "source": [
    "data1_not_confident = data1.loc[data1['confidence']== 'not_confident']\n",
    "a = data1_not_confident['correct_label'].value_counts()\n",
    "print(len(data1_not_confident))\n",
    "print(a)\n",
    "print(a[1] / len(data1_not_confident))\n",
    "data2_not_confident = data2.loc[data2['confidence']=='not_confident']\n",
    "b = data2_not_confident['correct_label'].value_counts()\n",
    "print(len(data2_not_confident))\n",
    "print(b)\n",
    "print(b[1] / len(data2_not_confident))"
   ]
  },
  {
   "cell_type": "code",
   "execution_count": 26,
   "metadata": {},
   "outputs": [
    {
     "data": {
      "text/plain": [
       "0      Yes\n",
       "1       No\n",
       "2       No\n",
       "3      Yes\n",
       "4       No\n",
       "      ... \n",
       "643     No\n",
       "644    Yes\n",
       "645     No\n",
       "646     No\n",
       "647     No\n",
       "Name: confidence, Length: 648, dtype: object"
      ]
     },
     "execution_count": 26,
     "metadata": {},
     "output_type": "execute_result"
    }
   ],
   "source": [
    "data1['confidence']"
   ]
  },
  {
   "cell_type": "code",
   "execution_count": null,
   "metadata": {},
   "outputs": [],
   "source": [
    "# Exclude labels which had a low confidence\n",
    "\n",
    "# Exclude labels which all workers didn't agree on\n"
   ]
  },
  {
   "cell_type": "code",
   "execution_count": 97,
   "metadata": {},
   "outputs": [
    {
     "name": "stdout",
     "output_type": "stream",
     "text": [
      "A29HILIOBLRW1S    47\n",
      "A2EYD5BP3AKLIE    37\n",
      "A64F60OM8VDDQ     33\n",
      "AFA73M8WJKEN0     29\n",
      "ACU8RTAZQU1GP     28\n",
      "                  ..\n",
      "A380X909I6GY7D     1\n",
      "A2ZLJQWCM8KU36     1\n",
      "A1VK4OIA44TUL7     1\n",
      "A2YVWC06HHKM7V     1\n",
      "A3N6IUYI1UUMYY     1\n",
      "Name: WorkerId, Length: 111, dtype: int64\n",
      "A3UBH7E0BEB23K    73\n",
      "AXJCV4FWC4BGQ     36\n",
      "APXN6ZCXRGB5M     33\n",
      "A23LU9N9IT220U    32\n",
      "A19940RY4CF491    23\n",
      "                  ..\n",
      "A14CCWIFLDPZLA     1\n",
      "A1UCL7A73YKS5C     1\n",
      "A3AGJSGD009WMM     1\n",
      "A25XIKDZOJCT8W     1\n",
      "A1EDN55K4IF2GD     1\n",
      "Name: WorkerId, Length: 133, dtype: int64\n"
     ]
    }
   ],
   "source": [
    "print(data1['WorkerId'].value_counts())\n",
    "print(data2['WorkerId'].value_counts())"
   ]
  },
  {
   "cell_type": "code",
   "execution_count": 98,
   "metadata": {},
   "outputs": [
    {
     "name": "stdout",
     "output_type": "stream",
     "text": [
      "{'A38AQF5BPHJS4C', 'A3OTX62IHUFV3D', 'A1K0LRUQUN5I0J', 'A2N8CRZSSKEDH3', 'A5J3EJX1ADIS', 'A23LU9N9IT220U', 'A2EYD5BP3AKLIE', 'A2VUF0V7HT51Q3', 'ADVCIFLB5A9B', 'A2WYZLG8J526TQ', 'AXJCV4FWC4BGQ', 'A2V40CL511Z37G', 'A38ZFP228C5112', 'APGOZK7LO6YQF', 'A2ZLJQWCM8KU36', 'A3T467USWU7ZOY', 'A1XHSOHTQ81V4O', 'A1CZZ8E7K3CCV9', 'A14CCWIFLDPZLA', 'ABDXLB3YCM6XY', 'A27JUKQFY00XP7', 'A29HILIOBLRW1S', 'A30LVINW75GV0V', 'A26EEQE7NYLQNI', 'A3A6BVDDO2M1C9', 'A2E6Z6NDAES26P', 'A2J9NFY45NKR2N', 'A1MDKN4ZIZYH2O', 'AMOBC1D09Q381', 'A3MHMMTUTOJQ1V', 'A1HEB7F1J8ENZI', 'A3ZSLY8UQDRC3', 'A2LBYE8RUQBQYG', 'A1LJRMT897VBKP', 'AFA73M8WJKEN0', 'ARPBDM5QZ4XQC', 'AV6C736XAEG67', 'A3EM9OBO5KU9GG', 'A2ZT2Z0LQ05EGZ'}\n",
      "39\n"
     ]
    }
   ],
   "source": [
    "print(set(data1['WorkerId'].unique()).intersection(set(data2['WorkerId'].unique())))\n",
    "print(len(set(data1['WorkerId'].unique()).intersection(set(data2['WorkerId'].unique()))))\n",
    "# print(data2['WorkerId'].value_counts())"
   ]
  },
  {
   "cell_type": "code",
   "execution_count": 103,
   "metadata": {},
   "outputs": [
    {
     "name": "stdout",
     "output_type": "stream",
     "text": [
      "False    137\n",
      "True      78\n",
      "Name: label, dtype: int64\n",
      "0.3611111111111111\n",
      "False    119\n",
      "True      96\n",
      "Name: label, dtype: int64\n",
      "0.4444444444444444\n"
     ]
    }
   ],
   "source": [
    "a1 = data1.groupby(['Input.url']).label.nunique().eq(1).value_counts()\n",
    "a2 = data2.groupby(['Input.url']).label.nunique().eq(1).value_counts()\n",
    "print(a1)\n",
    "print(a1[1]/(n_data_points/3))\n",
    "print(a2)\n",
    "print(a2[1]/(n_data_points/3))\n",
    "\n"
   ]
  },
  {
   "cell_type": "code",
   "execution_count": 104,
   "metadata": {},
   "outputs": [
    {
     "name": "stdout",
     "output_type": "stream",
     "text": [
      "a3\n",
      "True    78\n",
      "Name: label, dtype: int64\n",
      "a4\n",
      "True    96\n",
      "Name: label, dtype: int64\n"
     ]
    }
   ],
   "source": [
    "data1_unan_urls = []\n",
    "data2_unan_urls = []\n",
    "\n",
    "for url in data1['Input.url'].unique():\n",
    "    if data1.groupby(['Input.url']).label.nunique().eq(1).loc[url] == True:\n",
    "        data1_unan_urls.append(url)\n",
    "    if data2.groupby(['Input.url']).label.nunique().eq(1).loc[url] == True:\n",
    "        data2_unan_urls.append(url)\n",
    "\n",
    "data1_unanimous = data1[data1['Input.url'].isin(data1_unan_urls)]\n",
    "# print(len(data1_unanimous))\n",
    "data2_unanimous = data2[data2['Input.url'].isin(data2_unan_urls)]\n",
    "# print(len(data2_unanimous))\n",
    "\n",
    "a3 = data1_unanimous.groupby(['Input.url']).label.nunique().eq(1).value_counts()\n",
    "a4 = data2_unanimous.groupby(['Input.url']).label.nunique().eq(1).value_counts()\n",
    "print(\"a3\")\n",
    "print(a3)\n",
    "\n",
    "print(\"a4\")\n",
    "print(a4)\n",
    "\n",
    "# for url in data1['Input.url'].unique():\n",
    "#     if data1.loc[data1['Input.url']==url, 'label'].value_counts().iloc[0] != data2.loc[data2['Input.url']==url, 'label'].value_counts().iloc[0]:\n",
    "#         print(url)\n",
    "#         print(data1.loc[data1['Input.url']==url, 'label'].value_counts())\n",
    "#         print(data2.loc[data2['Input.url']==url, 'label'].value_counts())\n",
    "#         print('\\n')\n",
    "\n",
    "# for url in data1['Input.url'].unique():\n",
    "#     if data1.loc[data1['Input.url']==url, 'label'].value_counts().iloc[0] != data2.loc[data2['Input.url']==url, 'label'].value_counts().iloc[0]:\n",
    "#         print(url)\n",
    "#         print(data1.loc[data1['Input.url']==url, 'label'].value_counts())\n",
    "#         print(data2.loc[data2['Input.url']==url, 'label'].value_counts())\n",
    "#         print('\\n')\n",
    "\n",
    "# for i in data1.iterrows():\n",
    "#     if i[1]['label'] != i[1]['Input.m_1']:\n",
    "#         print(i)\n",
    "#         break\n",
    "\n",
    "# data1_unan = data1[[\"Input.url\",\"label\",\"Input.m_1\"]]\n",
    "# data2_unan = data2[[\"Input.url\",\"label\",\"Input.m_1\"]]\n",
    "\n",
    "# data1_unan = data1_unan[]\n",
    "\n",
    "\n",
    "# data1_unan = data1[data1.groupby(['Input.url']).label.nunique().eq(1)]\n",
    "# data2_unan = data2[data2.groupby(['Input.url']).label.nunique().eq(1)]\n"
   ]
  },
  {
   "cell_type": "code",
   "execution_count": 105,
   "metadata": {},
   "outputs": [
    {
     "name": "stdout",
     "output_type": "stream",
     "text": [
      "234\n",
      "True     165\n",
      "False     69\n",
      "Name: correct_label, dtype: int64\n",
      "0.7051282051282052\n",
      "288\n",
      "True     174\n",
      "False    114\n",
      "Name: correct_label, dtype: int64\n",
      "0.6041666666666666\n"
     ]
    },
    {
     "name": "stderr",
     "output_type": "stream",
     "text": [
      "<ipython-input-105-7516a29b1b9b>:1: SettingWithCopyWarning: \n",
      "A value is trying to be set on a copy of a slice from a DataFrame.\n",
      "Try using .loc[row_indexer,col_indexer] = value instead\n",
      "\n",
      "See the caveats in the documentation: https://pandas.pydata.org/pandas-docs/stable/user_guide/indexing.html#returning-a-view-versus-a-copy\n",
      "  data1_unanimous['correct_label'] = (data1_unanimous['label']==data1_unanimous['Input.m_1'])\n",
      "<ipython-input-105-7516a29b1b9b>:7: SettingWithCopyWarning: \n",
      "A value is trying to be set on a copy of a slice from a DataFrame.\n",
      "Try using .loc[row_indexer,col_indexer] = value instead\n",
      "\n",
      "See the caveats in the documentation: https://pandas.pydata.org/pandas-docs/stable/user_guide/indexing.html#returning-a-view-versus-a-copy\n",
      "  data2_unanimous['correct_label'] = (data2_unanimous['label']==data2_unanimous['Input.m_1'])\n"
     ]
    }
   ],
   "source": [
    "\n",
    "data1_unanimous['correct_label'] = (data1_unanimous['label']==data1_unanimous['Input.m_1'])\n",
    "print(len(data1_unanimous))\n",
    "a = data1_unanimous['correct_label'].value_counts()\n",
    "print(a)\n",
    "print(a[1]/len(data1_unanimous))\n",
    "\n",
    "data2_unanimous['correct_label'] = (data2_unanimous['label']==data2_unanimous['Input.m_1'])\n",
    "print(len(data2_unanimous))\n",
    "b = data2_unanimous['correct_label'].value_counts()\n",
    "print(b)\n",
    "\n",
    "\n",
    "print(b[1]/len(data2_unanimous))"
   ]
  },
  {
   "cell_type": "code",
   "execution_count": null,
   "metadata": {},
   "outputs": [],
   "source": [
    "data1_unanimous_and_confident['correct_label'] = (data1_unanimous['label']==data1_unanimous['Input.m_1'])\n",
    "print(len(data1_unanimous))\n",
    "a = data1_unanimous['correct_label'].value_counts()\n",
    "print(a)\n",
    "print(a[1]/len(data1_unanimous))\n",
    "\n",
    "data2_unanimous['correct_label'] = (data2_unanimous['label']==data2_unanimous['Input.m_1'])\n",
    "print(len(data2_unanimous))\n",
    "b = data2_unanimous['correct_label'].value_counts()\n",
    "print(b)\n",
    "\n",
    "\n",
    "print(b[1]/len(data2_unanimous))"
   ]
  },
  {
   "cell_type": "code",
   "execution_count": 29,
   "metadata": {},
   "outputs": [
    {
     "data": {
      "text/plain": [
       "<pandas.core.groupby.generic.DataFrameGroupBy object at 0x0000029D0CA48070>"
      ]
     },
     "execution_count": 29,
     "metadata": {},
     "output_type": "execute_result"
    }
   ],
   "source": [
    "data1.groupby(['Input.url','WorkerId'])\n",
    "data2.groupby(['Input.url','WorkerId'])"
   ]
  },
  {
   "cell_type": "code",
   "execution_count": null,
   "metadata": {},
   "outputs": [],
   "source": [
    "df.groupby(['id', 'group', 'term']).size().unstack(fill_value=0)"
   ]
  }
 ],
 "metadata": {
  "kernelspec": {
   "display_name": "Python 3.9.2 64-bit",
   "language": "python",
   "name": "python3"
  },
  "language_info": {
   "codemirror_mode": {
    "name": "ipython",
    "version": 3
   },
   "file_extension": ".py",
   "mimetype": "text/x-python",
   "name": "python",
   "nbconvert_exporter": "python",
   "pygments_lexer": "ipython3",
   "version": "3.9.2"
  },
  "orig_nbformat": 4,
  "vscode": {
   "interpreter": {
    "hash": "9f6ad2f52b6f2102eb7f095f544b465a70462f6b5363a9345dbb680720583951"
   }
  }
 },
 "nbformat": 4,
 "nbformat_minor": 2
}
